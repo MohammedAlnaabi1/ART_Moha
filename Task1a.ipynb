{
  "nbformat": 4,
  "nbformat_minor": 0,
  "metadata": {
    "colab": {
      "provenance": []
    },
    "kernelspec": {
      "name": "python3",
      "display_name": "Python 3"
    },
    "language_info": {
      "name": "python"
    }
  },
  "cells": [
    {
      "cell_type": "code",
      "execution_count": 1,
      "metadata": {
        "colab": {
          "base_uri": "https://localhost:8080/"
        },
        "id": "vQW4XDYJyJG1",
        "outputId": "2b2452f1-7daa-486d-9326-7107414f4a68"
      },
      "outputs": [
        {
          "output_type": "stream",
          "name": "stdout",
          "text": [
            "Mounted at /content/drive\n"
          ]
        }
      ],
      "source": [
        " from google.colab import drive\n",
        "drive.mount('/content/drive', force_remount=True)\n"
      ]
    },
    {
      "cell_type": "code",
      "source": [
        "train_dir = '/content/drive/MyDrive/Colab Notebooks/train'\n",
        "test_dir = '/content/drive/MyDrive/Colab Notebooks/test'"
      ],
      "metadata": {
        "id": "tmzjpHH07gt2"
      },
      "execution_count": 3,
      "outputs": []
    },
    {
      "cell_type": "code",
      "source": [
        "import os\n",
        "print(len(os.listdir('/content/drive/MyDrive/Colab Notebooks/train/Bike')))\n",
        "print(len(os.listdir('/content/drive/MyDrive/Colab Notebooks/train/Car')))\n",
        "print(len(os.listdir('/content/drive/MyDrive/Colab Notebooks/test/Bike')))\n",
        "print(len(os.listdir('/content/drive/MyDrive/Colab Notebooks/test/Car')))"
      ],
      "metadata": {
        "colab": {
          "base_uri": "https://localhost:8080/"
        },
        "id": "yyJktPMY9NVc",
        "outputId": "30579801-e5b2-47cc-e117-1131fea872e6"
      },
      "execution_count": 4,
      "outputs": [
        {
          "output_type": "stream",
          "name": "stdout",
          "text": [
            "1696\n",
            "1565\n",
            "305\n",
            "435\n"
          ]
        }
      ]
    },
    {
      "cell_type": "code",
      "source": [
        "import tensorflow as tf\n",
        "from tensorflow.keras.preprocessing.image import ImageDataGenerator\n",
        "\n",
        "\n",
        "train_datagen = ImageDataGenerator(\n",
        "    rescale=1./255,\n",
        "    validation_split=0.2\n",
        ")\n",
        "\n",
        "\n",
        "train_data = train_datagen.flow_from_directory(\n",
        "    train_dir,\n",
        "    target_size=(256,256),\n",
        "    batch_size=32,\n",
        "    class_mode='binary',\n",
        "    subset='training'\n",
        ")\n",
        "\n",
        "\n",
        "validation_datagen = ImageDataGenerator(\n",
        "    rescale=1./255,\n",
        "    validation_split=0.2\n",
        ")\n",
        "\n",
        "\n",
        "validation_data = validation_datagen.flow_from_directory(\n",
        "    train_dir,\n",
        "    target_size=(256,256),\n",
        "    batch_size=32,\n",
        "    class_mode='binary',\n",
        "    subset='validation'\n",
        ")"
      ],
      "metadata": {
        "colab": {
          "base_uri": "https://localhost:8080/"
        },
        "id": "OZCWyqNJ9phM",
        "outputId": "3aa6e725-4a59-4f6e-9d78-e7f9f49c2ac4"
      },
      "execution_count": 5,
      "outputs": [
        {
          "output_type": "stream",
          "name": "stdout",
          "text": [
            "Found 2609 images belonging to 2 classes.\n",
            "Found 652 images belonging to 2 classes.\n"
          ]
        }
      ]
    },
    {
      "cell_type": "code",
      "source": [
        "from tensorflow import keras\n",
        "from keras import Sequential\n",
        "from keras.layers import Dense,Conv2D,MaxPooling2D,Flatten,BatchNormalization,UpSampling2D, Dropout"
      ],
      "metadata": {
        "id": "rianWVri9-aS"
      },
      "execution_count": 6,
      "outputs": []
    },
    {
      "cell_type": "code",
      "source": [
        "\n",
        "\n",
        "model = Sequential()\n",
        "\n",
        "model.add(Conv2D(32,kernel_size=(3,3),padding='valid',activation='relu',input_shape=(256,256,3)))  # 32 filters\n",
        "\n",
        "model.add(MaxPooling2D(pool_size=(2,2),strides=2,padding='valid'))\n",
        "\n",
        "model.add(Conv2D(64,kernel_size=(3,3),padding='valid',activation='relu'))\n",
        "\n",
        "model.add(MaxPooling2D(pool_size=(2,2),strides=2,padding='valid'))\n",
        "\n",
        "model.add(Conv2D(128,kernel_size=(3,3),padding='valid',activation='relu'))\n",
        "\n",
        "model.add(MaxPooling2D(pool_size=(2,2),strides=2,padding='valid'))\n",
        "\n",
        "model.add(Flatten())\n",
        "\n",
        "model.add(Dense(128,activation='relu'))\n",
        "\n",
        "model.add(Dense(64,activation='relu'))\n",
        "\n",
        "model.add(Dense(1,activation='sigmoid'))"
      ],
      "metadata": {
        "id": "e-ehXaxC-EOD"
      },
      "execution_count": 7,
      "outputs": []
    },
    {
      "cell_type": "code",
      "source": [
        "from keras.optimizers import Adam\n",
        "model.compile(optimizer=Adam(learning_rate=0.001),loss='binary_crossentropy',metrics=['accuracy'])"
      ],
      "metadata": {
        "id": "zPFgHp-W-PQr"
      },
      "execution_count": 8,
      "outputs": []
    },
    {
      "cell_type": "code",
      "source": [
        "history = model.fit(train_data, epochs=30, validation_data=validation_data)"
      ],
      "metadata": {
        "colab": {
          "base_uri": "https://localhost:8080/"
        },
        "id": "srp5dHRFAnCF",
        "outputId": "97a193d5-3273-4c3e-cc13-9eaccc537e92"
      },
      "execution_count": 10,
      "outputs": [
        {
          "output_type": "stream",
          "name": "stdout",
          "text": [
            "Epoch 1/30\n",
            "82/82 [==============================] - 961s 12s/step - loss: 0.3380 - accuracy: 0.8528 - val_loss: 0.2379 - val_accuracy: 0.9080\n",
            "Epoch 2/30\n",
            "82/82 [==============================] - 441s 5s/step - loss: 0.1435 - accuracy: 0.9417 - val_loss: 0.3582 - val_accuracy: 0.8727\n",
            "Epoch 3/30\n",
            "82/82 [==============================] - 448s 5s/step - loss: 0.0893 - accuracy: 0.9670 - val_loss: 0.2202 - val_accuracy: 0.9187\n",
            "Epoch 4/30\n",
            "82/82 [==============================] - 455s 6s/step - loss: 0.0773 - accuracy: 0.9728 - val_loss: 0.2890 - val_accuracy: 0.9049\n",
            "Epoch 5/30\n",
            "82/82 [==============================] - 440s 5s/step - loss: 0.0249 - accuracy: 0.9916 - val_loss: 0.3135 - val_accuracy: 0.9172\n",
            "Epoch 6/30\n",
            "82/82 [==============================] - 458s 6s/step - loss: 0.0097 - accuracy: 0.9985 - val_loss: 0.3904 - val_accuracy: 0.9126\n",
            "Epoch 7/30\n",
            "82/82 [==============================] - 439s 5s/step - loss: 0.0026 - accuracy: 1.0000 - val_loss: 0.4184 - val_accuracy: 0.9218\n",
            "Epoch 8/30\n",
            "82/82 [==============================] - 458s 6s/step - loss: 2.8646e-04 - accuracy: 1.0000 - val_loss: 0.4618 - val_accuracy: 0.9202\n",
            "Epoch 9/30\n",
            "82/82 [==============================] - 460s 6s/step - loss: 1.0328e-04 - accuracy: 1.0000 - val_loss: 0.4790 - val_accuracy: 0.9202\n",
            "Epoch 10/30\n",
            "82/82 [==============================] - 448s 5s/step - loss: 7.1656e-05 - accuracy: 1.0000 - val_loss: 0.4978 - val_accuracy: 0.9187\n",
            "Epoch 11/30\n",
            "82/82 [==============================] - 448s 5s/step - loss: 5.0852e-05 - accuracy: 1.0000 - val_loss: 0.5051 - val_accuracy: 0.9172\n",
            "Epoch 12/30\n",
            "82/82 [==============================] - 447s 5s/step - loss: 3.8512e-05 - accuracy: 1.0000 - val_loss: 0.5286 - val_accuracy: 0.9187\n",
            "Epoch 13/30\n",
            "82/82 [==============================] - 437s 5s/step - loss: 2.3074e-05 - accuracy: 1.0000 - val_loss: 0.5632 - val_accuracy: 0.9172\n",
            "Epoch 14/30\n",
            "82/82 [==============================] - 433s 5s/step - loss: 1.5307e-05 - accuracy: 1.0000 - val_loss: 0.5768 - val_accuracy: 0.9141\n",
            "Epoch 15/30\n",
            "82/82 [==============================] - 442s 5s/step - loss: 1.0679e-05 - accuracy: 1.0000 - val_loss: 0.5937 - val_accuracy: 0.9172\n",
            "Epoch 16/30\n",
            "82/82 [==============================] - 438s 5s/step - loss: 7.1635e-06 - accuracy: 1.0000 - val_loss: 0.6040 - val_accuracy: 0.9172\n",
            "Epoch 17/30\n",
            "82/82 [==============================] - 446s 5s/step - loss: 5.2260e-06 - accuracy: 1.0000 - val_loss: 0.6091 - val_accuracy: 0.9172\n",
            "Epoch 18/30\n",
            "82/82 [==============================] - 434s 5s/step - loss: 3.9998e-06 - accuracy: 1.0000 - val_loss: 0.6174 - val_accuracy: 0.9156\n",
            "Epoch 19/30\n",
            "82/82 [==============================] - 434s 5s/step - loss: 3.3394e-06 - accuracy: 1.0000 - val_loss: 0.6209 - val_accuracy: 0.9172\n",
            "Epoch 20/30\n",
            "82/82 [==============================] - 437s 5s/step - loss: 2.6973e-06 - accuracy: 1.0000 - val_loss: 0.6375 - val_accuracy: 0.9156\n",
            "Epoch 21/30\n",
            "82/82 [==============================] - 433s 5s/step - loss: 2.1540e-06 - accuracy: 1.0000 - val_loss: 0.6348 - val_accuracy: 0.9156\n",
            "Epoch 22/30\n",
            "82/82 [==============================] - 435s 5s/step - loss: 1.9366e-06 - accuracy: 1.0000 - val_loss: 0.6494 - val_accuracy: 0.9172\n",
            "Epoch 23/30\n",
            "82/82 [==============================] - 437s 5s/step - loss: 1.5647e-06 - accuracy: 1.0000 - val_loss: 0.6451 - val_accuracy: 0.9156\n",
            "Epoch 24/30\n",
            "82/82 [==============================] - 440s 5s/step - loss: 1.3929e-06 - accuracy: 1.0000 - val_loss: 0.6447 - val_accuracy: 0.9156\n",
            "Epoch 25/30\n",
            "82/82 [==============================] - 455s 6s/step - loss: 1.2435e-06 - accuracy: 1.0000 - val_loss: 0.6618 - val_accuracy: 0.9172\n",
            "Epoch 26/30\n",
            "82/82 [==============================] - 443s 5s/step - loss: 1.1157e-06 - accuracy: 1.0000 - val_loss: 0.6561 - val_accuracy: 0.9156\n",
            "Epoch 27/30\n",
            "82/82 [==============================] - 436s 5s/step - loss: 9.8409e-07 - accuracy: 1.0000 - val_loss: 0.6605 - val_accuracy: 0.9156\n",
            "Epoch 28/30\n",
            "82/82 [==============================] - 447s 5s/step - loss: 8.9799e-07 - accuracy: 1.0000 - val_loss: 0.6715 - val_accuracy: 0.9172\n",
            "Epoch 29/30\n",
            "82/82 [==============================] - 441s 5s/step - loss: 8.2750e-07 - accuracy: 1.0000 - val_loss: 0.6712 - val_accuracy: 0.9156\n",
            "Epoch 30/30\n",
            "82/82 [==============================] - 453s 6s/step - loss: 7.4508e-07 - accuracy: 1.0000 - val_loss: 0.6711 - val_accuracy: 0.9156\n"
          ]
        }
      ]
    },
    {
      "cell_type": "code",
      "source": [
        "import matplotlib.pyplot as plt\n",
        "\n",
        "plt.plot(history.history['accuracy'],color='red',label='train')\n",
        "plt.plot(history.history['val_accuracy'],color='blue',label='validation')\n",
        "plt.legend()\n",
        "plt.show()"
      ],
      "metadata": {
        "colab": {
          "base_uri": "https://localhost:8080/",
          "height": 430
        },
        "id": "Kf1YtdHT1gzP",
        "outputId": "596d6e59-10f0-43cf-a1da-d7002664c730"
      },
      "execution_count": 11,
      "outputs": [
        {
          "output_type": "display_data",
          "data": {
            "text/plain": [
              "<Figure size 640x480 with 1 Axes>"
            ],
            "image/png": "[encoded data removed]"
          },
          "metadata": {}
        }
      ]
    },
    {
      "cell_type": "code",
      "source": [
        "plt.plot(history.history['loss'],color='red',label='train')\n",
        "plt.plot(history.history['val_loss'],color='blue',label='validation')\n",
        "plt.legend()\n",
        "plt.show()"
      ],
      "metadata": {
        "colab": {
          "base_uri": "https://localhost:8080/",
          "height": 433
        },
        "id": "kY_fmjLl1rY8",
        "outputId": "0d0cb715-ae6f-4318-8fee-00958240d0d3"
      },
      "execution_count": 12,
      "outputs": [
        {
          "output_type": "display_data",
          "data": {
            "text/plain": [
              "<Figure size 640x480 with 1 Axes>"
            ],
            "image/png": "[encoded data removed]"
          },
          "metadata": {}
        }
      ]
    },
    {
      "cell_type": "code",
      "source": [
        "test_datagen = ImageDataGenerator(rescale=1./255)\n",
        "test_data = test_datagen.flow_from_directory(\n",
        "    test_dir,\n",
        "    target_size=(256,256),\n",
        "    batch_size=32,\n",
        "    class_mode='binary'\n",
        ")\n"
      ],
      "metadata": {
        "colab": {
          "base_uri": "https://localhost:8080/"
        },
        "id": "LI327LcG3E-I",
        "outputId": "2c33293c-6fe1-411d-f393-4f975611ec26"
      },
      "execution_count": 13,
      "outputs": [
        {
          "output_type": "stream",
          "name": "stdout",
          "text": [
            "Found 740 images belonging to 2 classes.\n"
          ]
        }
      ]
    },
    {
      "cell_type": "code",
      "source": [
        "predictions = model.predict(test_data)\n",
        "print(predictions)"
      ],
      "metadata": {
        "colab": {
          "base_uri": "https://localhost:8080/"
        },
        "id": "LzHXJbg03Pe2",
        "outputId": "a51667b4-34dd-4ea1-f054-f7eadf86da87"
      },
      "execution_count": 14,
      "outputs": [
        {
          "output_type": "stream",
          "name": "stdout",
          "text": [
            "24/24 [==============================] - 155s 7s/step\n",
            "[[4.35436815e-01]\n",
            " [2.06939295e-01]\n",
            " [9.99999881e-01]\n",
            " [1.07120403e-14]\n",
            " [9.99766886e-01]\n",
            " [1.00000000e+00]\n",
            " [2.05502042e-18]\n",
            " [9.99999642e-01]\n",
            " [2.28140470e-06]\n",
            " [5.64014772e-04]\n",
            " [7.94273913e-01]\n",
            " [1.00000000e+00]\n",
            " [1.00000000e+00]\n",
            " [9.99797881e-01]\n",
            " [9.99999523e-01]\n",
            " [1.00000000e+00]\n",
            " [8.78678560e-01]\n",
            " [1.00000000e+00]\n",
            " [6.34359102e-14]\n",
            " [1.26523782e-05]\n",
            " [9.99999940e-01]\n",
            " [1.91689123e-20]\n",
            " [9.97505128e-01]\n",
            " [8.91653396e-13]\n",
            " [2.20839205e-08]\n",
            " [9.99999762e-01]\n",
            " [1.00000000e+00]\n",
            " [1.00000000e+00]\n",
            " [9.98240054e-01]\n",
            " [1.00000000e+00]\n",
            " [7.94861085e-13]\n",
            " [1.00000000e+00]\n",
            " [6.08614414e-07]\n",
            " [9.99210238e-01]\n",
            " [1.11883190e-02]\n",
            " [7.78169140e-10]\n",
            " [1.00000000e+00]\n",
            " [9.64480673e-09]\n",
            " [2.72985420e-14]\n",
            " [1.00000000e+00]\n",
            " [1.00000000e+00]\n",
            " [3.15099332e-20]\n",
            " [9.99977291e-01]\n",
            " [1.15806060e-13]\n",
            " [9.98103976e-01]\n",
            " [1.00000000e+00]\n",
            " [1.01160192e-16]\n",
            " [5.37348247e-12]\n",
            " [1.00000000e+00]\n",
            " [1.00000000e+00]\n",
            " [1.00000000e+00]\n",
            " [6.58168671e-18]\n",
            " [5.14640391e-01]\n",
            " [1.37946998e-07]\n",
            " [1.00000000e+00]\n",
            " [1.00000000e+00]\n",
            " [9.99984622e-01]\n",
            " [2.00988093e-09]\n",
            " [1.00000000e+00]\n",
            " [9.99999881e-01]\n",
            " [9.99999762e-01]\n",
            " [1.00000000e+00]\n",
            " [8.05809736e-01]\n",
            " [1.29320556e-11]\n",
            " [3.08960706e-01]\n",
            " [5.43887093e-18]\n",
            " [3.18065907e-09]\n",
            " [1.00000000e+00]\n",
            " [1.00000000e+00]\n",
            " [1.00000000e+00]\n",
            " [1.00000000e+00]\n",
            " [1.00000000e+00]\n",
            " [9.99801934e-01]\n",
            " [5.11466650e-12]\n",
            " [9.97717794e-12]\n",
            " [1.00000000e+00]\n",
            " [1.00000000e+00]\n",
            " [1.00000000e+00]\n",
            " [1.00000000e+00]\n",
            " [1.45842578e-05]\n",
            " [9.99417663e-01]\n",
            " [1.00000000e+00]\n",
            " [1.75118763e-13]\n",
            " [1.00396281e-13]\n",
            " [1.00000000e+00]\n",
            " [9.99997437e-01]\n",
            " [1.00000000e+00]\n",
            " [5.94334438e-07]\n",
            " [1.00000000e+00]\n",
            " [1.00000000e+00]\n",
            " [1.29429853e-15]\n",
            " [9.99999881e-01]\n",
            " [6.49329931e-20]\n",
            " [6.99215263e-07]\n",
            " [3.41673953e-16]\n",
            " [1.11009811e-07]\n",
            " [1.00000000e+00]\n",
            " [1.00000000e+00]\n",
            " [8.31088960e-01]\n",
            " [4.40007625e-06]\n",
            " [1.66997238e-09]\n",
            " [1.96836088e-02]\n",
            " [1.00000000e+00]\n",
            " [1.00000000e+00]\n",
            " [9.05068518e-08]\n",
            " [6.31862581e-02]\n",
            " [1.00000000e+00]\n",
            " [1.00000000e+00]\n",
            " [1.00000000e+00]\n",
            " [1.00000000e+00]\n",
            " [1.40861463e-04]\n",
            " [6.97473991e-15]\n",
            " [2.27791374e-03]\n",
            " [2.31368560e-02]\n",
            " [2.38250284e-17]\n",
            " [1.68046736e-18]\n",
            " [1.00000000e+00]\n",
            " [1.00000000e+00]\n",
            " [9.99999642e-01]\n",
            " [5.91027019e-11]\n",
            " [1.00000000e+00]\n",
            " [1.81948380e-11]\n",
            " [1.00000000e+00]\n",
            " [1.00000000e+00]\n",
            " [1.00000000e+00]\n",
            " [1.00000000e+00]\n",
            " [8.96424099e-05]\n",
            " [1.00000000e+00]\n",
            " [1.86939075e-18]\n",
            " [1.00000000e+00]\n",
            " [1.00000000e+00]\n",
            " [1.00000000e+00]\n",
            " [1.00000000e+00]\n",
            " [4.99410646e-09]\n",
            " [1.00000000e+00]\n",
            " [6.86300322e-02]\n",
            " [1.00000000e+00]\n",
            " [1.54616719e-16]\n",
            " [6.64626842e-09]\n",
            " [1.08080579e-03]\n",
            " [1.00000000e+00]\n",
            " [1.00000000e+00]\n",
            " [4.02304397e-14]\n",
            " [1.00000000e+00]\n",
            " [9.99992728e-01]\n",
            " [1.00000000e+00]\n",
            " [1.77754075e-07]\n",
            " [1.00000000e+00]\n",
            " [4.44686865e-09]\n",
            " [4.33417327e-13]\n",
            " [1.00000000e+00]\n",
            " [1.00000000e+00]\n",
            " [1.50546510e-18]\n",
            " [1.00000000e+00]\n",
            " [1.00000000e+00]\n",
            " [1.53278187e-01]\n",
            " [9.99981046e-01]\n",
            " [1.00000000e+00]\n",
            " [2.50987382e-12]\n",
            " [1.00000000e+00]\n",
            " [4.98659215e-18]\n",
            " [9.99984920e-01]\n",
            " [7.90258825e-01]\n",
            " [9.90060091e-01]\n",
            " [1.00000000e+00]\n",
            " [9.99850333e-01]\n",
            " [1.98899443e-16]\n",
            " [4.11247286e-11]\n",
            " [1.20675510e-11]\n",
            " [1.00000000e+00]\n",
            " [9.88565444e-06]\n",
            " [2.69322861e-17]\n",
            " [1.00000000e+00]\n",
            " [9.99946117e-01]\n",
            " [1.00000000e+00]\n",
            " [1.00000000e+00]\n",
            " [1.00000000e+00]\n",
            " [1.00498305e-07]\n",
            " [9.99989152e-01]\n",
            " [1.00000000e+00]\n",
            " [1.00000000e+00]\n",
            " [1.00000000e+00]\n",
            " [6.00393005e-02]\n",
            " [1.00000000e+00]\n",
            " [8.01881075e-01]\n",
            " [2.76930422e-01]\n",
            " [1.59310130e-12]\n",
            " [1.00000000e+00]\n",
            " [8.91409218e-01]\n",
            " [1.00000000e+00]\n",
            " [1.00000000e+00]\n",
            " [8.88837615e-14]\n",
            " [1.00000000e+00]\n",
            " [1.00000000e+00]\n",
            " [6.89596202e-09]\n",
            " [1.00000000e+00]\n",
            " [1.58186788e-12]\n",
            " [1.00000000e+00]\n",
            " [9.99958754e-01]\n",
            " [8.64741865e-15]\n",
            " [9.97413039e-01]\n",
            " [1.00000000e+00]\n",
            " [1.00000000e+00]\n",
            " [9.99999702e-01]\n",
            " [9.99999583e-01]\n",
            " [5.98179006e-10]\n",
            " [1.14603657e-17]\n",
            " [2.39451539e-14]\n",
            " [9.99973953e-01]\n",
            " [1.00000000e+00]\n",
            " [1.00000000e+00]\n",
            " [8.55182730e-11]\n",
            " [5.05692303e-01]\n",
            " [1.00000000e+00]\n",
            " [9.99781251e-01]\n",
            " [1.98631288e-21]\n",
            " [2.99928274e-06]\n",
            " [9.99957860e-01]\n",
            " [9.99999940e-01]\n",
            " [9.99499083e-01]\n",
            " [1.00000000e+00]\n",
            " [1.00000000e+00]\n",
            " [9.99999642e-01]\n",
            " [2.66466769e-23]\n",
            " [1.18633020e-10]\n",
            " [9.13381636e-01]\n",
            " [9.99976516e-01]\n",
            " [1.00000000e+00]\n",
            " [1.00000000e+00]\n",
            " [5.41255596e-10]\n",
            " [5.57250601e-17]\n",
            " [1.00000000e+00]\n",
            " [1.00000000e+00]\n",
            " [1.86513589e-07]\n",
            " [5.13015899e-13]\n",
            " [1.00000000e+00]\n",
            " [6.37058832e-08]\n",
            " [1.00000000e+00]\n",
            " [1.00000000e+00]\n",
            " [6.51801335e-10]\n",
            " [9.95435596e-01]\n",
            " [5.58477647e-20]\n",
            " [1.00000000e+00]\n",
            " [4.58989075e-13]\n",
            " [9.99999881e-01]\n",
            " [1.00000000e+00]\n",
            " [1.00000000e+00]\n",
            " [1.00000000e+00]\n",
            " [1.00000000e+00]\n",
            " [1.27768907e-10]\n",
            " [4.08143874e-09]\n",
            " [9.99999762e-01]\n",
            " [3.90664297e-07]\n",
            " [1.00000000e+00]\n",
            " [1.00000000e+00]\n",
            " [9.99985397e-01]\n",
            " [1.00000000e+00]\n",
            " [1.14666541e-07]\n",
            " [7.39668906e-01]\n",
            " [2.55988061e-11]\n",
            " [1.11111593e-13]\n",
            " [1.00000000e+00]\n",
            " [3.70527865e-20]\n",
            " [7.01990371e-15]\n",
            " [9.99937773e-01]\n",
            " [3.54268104e-01]\n",
            " [1.00000000e+00]\n",
            " [6.46074186e-05]\n",
            " [6.23765406e-12]\n",
            " [8.62450060e-03]\n",
            " [1.00000000e+00]\n",
            " [1.00000000e+00]\n",
            " [1.26758500e-12]\n",
            " [2.37392742e-04]\n",
            " [1.00000000e+00]\n",
            " [2.11396110e-08]\n",
            " [2.38417952e-10]\n",
            " [6.96525593e-09]\n",
            " [1.00000000e+00]\n",
            " [1.00000000e+00]\n",
            " [2.32855861e-22]\n",
            " [1.00000000e+00]\n",
            " [1.00000000e+00]\n",
            " [6.19509706e-13]\n",
            " [5.23631525e-06]\n",
            " [1.00000000e+00]\n",
            " [1.00000000e+00]\n",
            " [9.99996424e-01]\n",
            " [9.97032523e-01]\n",
            " [9.99917030e-01]\n",
            " [1.00000000e+00]\n",
            " [1.00000000e+00]\n",
            " [3.58758179e-09]\n",
            " [1.00000000e+00]\n",
            " [1.25168100e-07]\n",
            " [5.36770094e-03]\n",
            " [3.93277369e-02]\n",
            " [1.00000000e+00]\n",
            " [1.87954773e-11]\n",
            " [7.48086677e-07]\n",
            " [1.00000000e+00]\n",
            " [3.28132347e-03]\n",
            " [7.65081748e-12]\n",
            " [1.62427422e-16]\n",
            " [9.99237120e-01]\n",
            " [1.10744677e-10]\n",
            " [9.99178410e-01]\n",
            " [2.88526608e-05]\n",
            " [1.49123458e-04]\n",
            " [1.00000000e+00]\n",
            " [1.00000000e+00]\n",
            " [8.33572752e-25]\n",
            " [1.00000000e+00]\n",
            " [1.00000000e+00]\n",
            " [1.00000000e+00]\n",
            " [1.08101435e-01]\n",
            " [1.09494867e-08]\n",
            " [9.41672931e-17]\n",
            " [1.28818074e-05]\n",
            " [1.97630227e-01]\n",
            " [2.15720335e-14]\n",
            " [1.00000000e+00]\n",
            " [1.16937667e-06]\n",
            " [1.00000000e+00]\n",
            " [4.11717238e-08]\n",
            " [4.62162758e-14]\n",
            " [1.00000000e+00]\n",
            " [9.92745101e-01]\n",
            " [1.00000000e+00]\n",
            " [3.89581919e-06]\n",
            " [9.82651454e-06]\n",
            " [9.99982059e-01]\n",
            " [9.99999821e-01]\n",
            " [9.45533574e-01]\n",
            " [1.00000000e+00]\n",
            " [1.00000000e+00]\n",
            " [2.92309910e-09]\n",
            " [1.00000000e+00]\n",
            " [5.17136520e-08]\n",
            " [4.11202490e-01]\n",
            " [1.26584127e-05]\n",
            " [2.49948808e-08]\n",
            " [7.52797541e-06]\n",
            " [4.33345859e-11]\n",
            " [9.94884133e-01]\n",
            " [1.00000000e+00]\n",
            " [1.00000000e+00]\n",
            " [4.69932437e-01]\n",
            " [2.26338655e-01]\n",
            " [9.99691665e-01]\n",
            " [1.00000000e+00]\n",
            " [6.31120929e-06]\n",
            " [1.14434788e-10]\n",
            " [1.00000000e+00]\n",
            " [1.00000000e+00]\n",
            " [5.93587811e-06]\n",
            " [4.21518087e-02]\n",
            " [1.00000000e+00]\n",
            " [8.77915502e-01]\n",
            " [9.89068031e-01]\n",
            " [9.12778395e-11]\n",
            " [9.99982893e-01]\n",
            " [1.00000000e+00]\n",
            " [3.68109788e-04]\n",
            " [9.99895215e-01]\n",
            " [9.86169815e-01]\n",
            " [2.11637411e-02]\n",
            " [9.99999821e-01]\n",
            " [1.00000000e+00]\n",
            " [2.77119019e-04]\n",
            " [9.99999642e-01]\n",
            " [1.00000000e+00]\n",
            " [9.99999881e-01]\n",
            " [1.92109693e-16]\n",
            " [9.99287069e-01]\n",
            " [5.00250384e-02]\n",
            " [2.32809758e-10]\n",
            " [5.83657634e-16]\n",
            " [1.00000000e+00]\n",
            " [3.41357873e-03]\n",
            " [1.00000000e+00]\n",
            " [3.39139605e-10]\n",
            " [1.00000000e+00]\n",
            " [1.00000000e+00]\n",
            " [3.07677209e-01]\n",
            " [1.03241442e-08]\n",
            " [1.42923230e-03]\n",
            " [1.00000000e+00]\n",
            " [9.99999464e-01]\n",
            " [9.99999523e-01]\n",
            " [5.21505117e-01]\n",
            " [4.43569903e-11]\n",
            " [1.00000000e+00]\n",
            " [4.15394620e-19]\n",
            " [1.00000000e+00]\n",
            " [1.32360295e-11]\n",
            " [9.99999821e-01]\n",
            " [6.98884906e-13]\n",
            " [1.00000000e+00]\n",
            " [1.93742994e-10]\n",
            " [9.99999881e-01]\n",
            " [2.18559991e-16]\n",
            " [1.00000000e+00]\n",
            " [9.38561945e-13]\n",
            " [1.00000000e+00]\n",
            " [9.99439120e-01]\n",
            " [1.22853010e-07]\n",
            " [1.00000000e+00]\n",
            " [7.75847209e-09]\n",
            " [9.92295742e-01]\n",
            " [2.34586699e-12]\n",
            " [1.00000000e+00]\n",
            " [1.35710016e-01]\n",
            " [7.97664955e-16]\n",
            " [1.48835751e-14]\n",
            " [1.00000000e+00]\n",
            " [1.00000000e+00]\n",
            " [4.47923864e-14]\n",
            " [1.00000000e+00]\n",
            " [1.00000000e+00]\n",
            " [9.99633849e-01]\n",
            " [2.78505951e-11]\n",
            " [1.00000000e+00]\n",
            " [5.26935695e-09]\n",
            " [9.99593318e-01]\n",
            " [1.00000000e+00]\n",
            " [9.99998033e-01]\n",
            " [1.00000000e+00]\n",
            " [1.00000000e+00]\n",
            " [5.97825700e-09]\n",
            " [4.94580910e-09]\n",
            " [1.00000000e+00]\n",
            " [9.99882638e-01]\n",
            " [1.00000000e+00]\n",
            " [1.00000000e+00]\n",
            " [1.00000000e+00]\n",
            " [2.95914958e-07]\n",
            " [3.75664895e-05]\n",
            " [1.00000000e+00]\n",
            " [6.60080230e-04]\n",
            " [9.75343525e-01]\n",
            " [1.00000000e+00]\n",
            " [1.00000000e+00]\n",
            " [2.18407239e-18]\n",
            " [1.00000000e+00]\n",
            " [1.38750428e-03]\n",
            " [1.00000000e+00]\n",
            " [9.99999762e-01]\n",
            " [1.00000000e+00]\n",
            " [1.00000000e+00]\n",
            " [1.59998303e-16]\n",
            " [8.11089337e-01]\n",
            " [1.67227029e-06]\n",
            " [1.00000000e+00]\n",
            " [4.44772318e-02]\n",
            " [2.19818617e-06]\n",
            " [9.99999821e-01]\n",
            " [1.00000000e+00]\n",
            " [9.22335777e-04]\n",
            " [9.99992430e-01]\n",
            " [7.11726589e-09]\n",
            " [5.56923909e-15]\n",
            " [9.99999106e-01]\n",
            " [9.98645484e-01]\n",
            " [8.99583446e-12]\n",
            " [1.00000000e+00]\n",
            " [2.63086782e-04]\n",
            " [2.10689747e-11]\n",
            " [5.12922384e-07]\n",
            " [1.00000000e+00]\n",
            " [8.74322712e-01]\n",
            " [3.09954623e-12]\n",
            " [7.45701549e-15]\n",
            " [9.99970913e-01]\n",
            " [1.00000000e+00]\n",
            " [1.00000000e+00]\n",
            " [9.46957409e-01]\n",
            " [1.78839615e-20]\n",
            " [3.54665082e-13]\n",
            " [1.00000000e+00]\n",
            " [6.72633946e-14]\n",
            " [1.42109338e-05]\n",
            " [1.00000000e+00]\n",
            " [1.10118722e-13]\n",
            " [1.00000000e+00]\n",
            " [1.00000000e+00]\n",
            " [9.99999881e-01]\n",
            " [1.06532898e-08]\n",
            " [1.00000000e+00]\n",
            " [9.99994874e-01]\n",
            " [1.00000000e+00]\n",
            " [3.56000456e-08]\n",
            " [6.63725853e-01]\n",
            " [9.77331877e-01]\n",
            " [1.00000000e+00]\n",
            " [9.99999642e-01]\n",
            " [9.99998093e-01]\n",
            " [1.00000000e+00]\n",
            " [9.99999702e-01]\n",
            " [1.00000000e+00]\n",
            " [1.00000000e+00]\n",
            " [2.72128574e-07]\n",
            " [1.00000000e+00]\n",
            " [9.16452169e-01]\n",
            " [1.00000000e+00]\n",
            " [9.99999940e-01]\n",
            " [9.99998927e-01]\n",
            " [9.99989390e-01]\n",
            " [2.63387334e-09]\n",
            " [9.84273314e-01]\n",
            " [9.94089305e-01]\n",
            " [1.00000000e+00]\n",
            " [1.00000000e+00]\n",
            " [1.00000000e+00]\n",
            " [3.62058569e-16]\n",
            " [9.99999881e-01]\n",
            " [1.00000000e+00]\n",
            " [1.00000000e+00]\n",
            " [1.00000000e+00]\n",
            " [1.21158682e-11]\n",
            " [1.00000000e+00]\n",
            " [1.00000000e+00]\n",
            " [1.00000000e+00]\n",
            " [6.99977298e-10]\n",
            " [7.75450726e-09]\n",
            " [1.00000000e+00]\n",
            " [1.26876461e-04]\n",
            " [1.00000000e+00]\n",
            " [1.00000000e+00]\n",
            " [1.00000000e+00]\n",
            " [1.00000000e+00]\n",
            " [3.83260902e-19]\n",
            " [1.00000000e+00]\n",
            " [1.00000000e+00]\n",
            " [2.62277842e-01]\n",
            " [1.00000000e+00]\n",
            " [1.00000000e+00]\n",
            " [1.00000000e+00]\n",
            " [1.00000000e+00]\n",
            " [3.23149666e-18]\n",
            " [6.21812541e-12]\n",
            " [2.23106719e-20]\n",
            " [5.47712489e-08]\n",
            " [2.87694049e-13]\n",
            " [2.49746748e-08]\n",
            " [9.86731768e-01]\n",
            " [1.00000000e+00]\n",
            " [7.21425533e-01]\n",
            " [1.31451970e-16]\n",
            " [1.00000000e+00]\n",
            " [2.43306306e-18]\n",
            " [1.00000000e+00]\n",
            " [1.00000000e+00]\n",
            " [1.00000000e+00]\n",
            " [3.55217111e-07]\n",
            " [1.00000000e+00]\n",
            " [1.00000000e+00]\n",
            " [4.30677966e-10]\n",
            " [3.10906199e-19]\n",
            " [9.60518537e-06]\n",
            " [1.00000000e+00]\n",
            " [1.79264339e-10]\n",
            " [2.44186320e-11]\n",
            " [1.00000000e+00]\n",
            " [2.41124076e-09]\n",
            " [1.00000000e+00]\n",
            " [1.00000000e+00]\n",
            " [3.88946857e-15]\n",
            " [1.00000000e+00]\n",
            " [1.00000000e+00]\n",
            " [4.55666168e-06]\n",
            " [1.00000000e+00]\n",
            " [1.00000000e+00]\n",
            " [1.00000000e+00]\n",
            " [1.00000000e+00]\n",
            " [9.99995053e-01]\n",
            " [1.00000000e+00]\n",
            " [9.99998868e-01]\n",
            " [8.08028877e-03]\n",
            " [9.99995649e-01]\n",
            " [1.00000000e+00]\n",
            " [2.03386561e-11]\n",
            " [1.77331970e-07]\n",
            " [3.18215609e-01]\n",
            " [4.34477045e-07]\n",
            " [9.99999940e-01]\n",
            " [1.00000000e+00]\n",
            " [9.99910295e-01]\n",
            " [1.00000000e+00]\n",
            " [3.78942234e-24]\n",
            " [1.68341605e-10]\n",
            " [1.00000000e+00]\n",
            " [6.59175159e-10]\n",
            " [9.97942709e-15]\n",
            " [1.00000000e+00]\n",
            " [1.00000000e+00]\n",
            " [1.00000000e+00]\n",
            " [5.37527609e-04]\n",
            " [6.83368140e-15]\n",
            " [1.00000000e+00]\n",
            " [1.00000000e+00]\n",
            " [1.27290166e-03]\n",
            " [1.00000000e+00]\n",
            " [2.07860478e-23]\n",
            " [4.70296300e-08]\n",
            " [3.05916240e-15]\n",
            " [1.33586871e-14]\n",
            " [1.99704626e-08]\n",
            " [1.16527997e-06]\n",
            " [1.00000000e+00]\n",
            " [2.55940031e-16]\n",
            " [2.78726697e-01]\n",
            " [1.35435175e-05]\n",
            " [1.00000000e+00]\n",
            " [1.00000000e+00]\n",
            " [1.00000000e+00]\n",
            " [1.00000000e+00]\n",
            " [1.00000000e+00]\n",
            " [9.39597249e-01]\n",
            " [1.00000000e+00]\n",
            " [4.12703899e-12]\n",
            " [1.47918131e-08]\n",
            " [1.00000000e+00]\n",
            " [1.00000000e+00]\n",
            " [1.00000000e+00]\n",
            " [1.26851842e-06]\n",
            " [1.00000000e+00]\n",
            " [9.99998510e-01]\n",
            " [1.55810707e-08]\n",
            " [1.00000000e+00]\n",
            " [2.54499149e-16]\n",
            " [1.21217292e-09]\n",
            " [2.38855330e-18]\n",
            " [9.55928683e-01]\n",
            " [1.00000000e+00]\n",
            " [1.00000000e+00]\n",
            " [1.00000000e+00]\n",
            " [3.91144322e-12]\n",
            " [9.73687291e-01]\n",
            " [1.69834580e-09]\n",
            " [1.37556132e-17]\n",
            " [1.93078778e-12]\n",
            " [1.00000000e+00]\n",
            " [9.99997675e-01]\n",
            " [7.75712397e-05]\n",
            " [1.00000000e+00]\n",
            " [9.94198272e-05]\n",
            " [9.97288227e-01]\n",
            " [4.89352275e-17]\n",
            " [9.99364257e-01]\n",
            " [2.60612847e-13]\n",
            " [9.99966383e-01]\n",
            " [1.20584326e-12]\n",
            " [9.99599457e-01]\n",
            " [1.42663126e-08]\n",
            " [1.00000000e+00]\n",
            " [2.49038550e-07]\n",
            " [7.59020622e-07]\n",
            " [1.00000000e+00]\n",
            " [1.00000000e+00]\n",
            " [4.66299667e-07]\n",
            " [1.00000000e+00]\n",
            " [9.99997973e-01]\n",
            " [9.99999762e-01]\n",
            " [9.91996586e-01]\n",
            " [9.99261737e-01]\n",
            " [1.67951053e-09]\n",
            " [2.93190290e-14]\n",
            " [1.00000000e+00]\n",
            " [3.04195696e-19]\n",
            " [1.00000000e+00]\n",
            " [1.00000000e+00]\n",
            " [1.00000000e+00]\n",
            " [1.00000000e+00]\n",
            " [7.72715721e-05]\n",
            " [1.00000000e+00]\n",
            " [4.42594850e-10]\n",
            " [5.14421744e-14]\n",
            " [3.74729670e-09]\n",
            " [1.39651490e-09]\n",
            " [1.00000000e+00]\n",
            " [1.73856188e-12]\n",
            " [1.00000000e+00]\n",
            " [1.00000000e+00]\n",
            " [3.11269957e-07]\n",
            " [1.00000000e+00]\n",
            " [1.00000000e+00]\n",
            " [9.99963939e-01]\n",
            " [9.28519981e-08]\n",
            " [1.00000000e+00]\n",
            " [1.00000000e+00]\n",
            " [1.00000000e+00]\n",
            " [9.99734282e-01]\n",
            " [4.16141893e-06]\n",
            " [9.99999404e-01]\n",
            " [9.41149573e-15]\n",
            " [1.00000000e+00]\n",
            " [1.00000000e+00]\n",
            " [1.00000000e+00]\n",
            " [1.05032736e-13]\n",
            " [2.21489212e-12]\n",
            " [1.00000000e+00]\n",
            " [1.24450840e-11]\n",
            " [1.08448718e-13]\n",
            " [1.00000000e+00]\n",
            " [8.73996690e-02]\n",
            " [1.15304901e-16]\n",
            " [1.00000000e+00]\n",
            " [4.56025049e-08]\n",
            " [1.00000000e+00]\n",
            " [1.00000000e+00]\n",
            " [1.00000000e+00]\n",
            " [9.67903554e-01]\n",
            " [1.00000000e+00]\n",
            " [1.21110262e-13]\n",
            " [1.00000000e+00]\n",
            " [9.99991119e-01]\n",
            " [1.00000000e+00]\n",
            " [1.06047681e-17]\n",
            " [1.00000000e+00]\n",
            " [4.56744617e-17]\n",
            " [1.00000000e+00]\n",
            " [2.94002780e-22]\n",
            " [1.00000000e+00]\n",
            " [7.16666982e-04]\n",
            " [4.74011351e-04]\n",
            " [1.33208680e-08]\n",
            " [1.00000000e+00]\n",
            " [1.00000000e+00]\n",
            " [1.00000000e+00]\n",
            " [1.00000000e+00]\n",
            " [1.00000000e+00]\n",
            " [1.58350144e-19]\n",
            " [1.01708457e-01]\n",
            " [9.99998868e-01]\n",
            " [9.99900281e-01]\n",
            " [1.00000000e+00]\n",
            " [9.99999762e-01]\n",
            " [9.73931909e-01]\n",
            " [6.32955285e-04]]\n"
          ]
        }
      ]
    },
    {
      "cell_type": "code",
      "source": [
        "len(predictions)"
      ],
      "metadata": {
        "colab": {
          "base_uri": "https://localhost:8080/"
        },
        "id": "B8Jcmk4t4SO1",
        "outputId": "107c1cd0-f24f-475f-c4fe-b9cd2bbcb4f6"
      },
      "execution_count": 15,
      "outputs": [
        {
          "output_type": "execute_result",
          "data": {
            "text/plain": [
              "740"
            ]
          },
          "metadata": {},
          "execution_count": 15
        }
      ]
    },
    {
      "cell_type": "code",
      "source": [
        "from sklearn.metrics import confusion_matrix, classification_report\n",
        "\n",
        "\n",
        "true_labels = test_data.classes\n",
        "predicted_labels = (predictions > 0.5).astype(int)\n",
        "\n",
        "\n",
        "cm = confusion_matrix(true_labels, predicted_labels)\n",
        "\n",
        "\n",
        "print(\"Confusion Matrix:\")\n",
        "print(cm)\n",
        "\n",
        "\n",
        "print(\"Classification Report:\")\n",
        "print(classification_report(true_labels, predicted_labels))"
      ],
      "metadata": {
        "colab": {
          "base_uri": "https://localhost:8080/"
        },
        "id": "zHqWQbbu4aow",
        "outputId": "3be65d60-3913-454e-c748-125ca83b8c49"
      },
      "execution_count": 16,
      "outputs": [
        {
          "output_type": "stream",
          "name": "stdout",
          "text": [
            "Confusion Matrix:\n",
            "[[125 180]\n",
            " [181 254]]\n",
            "Classification Report:\n",
            "              precision    recall  f1-score   support\n",
            "\n",
            "           0       0.41      0.41      0.41       305\n",
            "           1       0.59      0.58      0.58       435\n",
            "\n",
            "    accuracy                           0.51       740\n",
            "   macro avg       0.50      0.50      0.50       740\n",
            "weighted avg       0.51      0.51      0.51       740\n",
            "\n"
          ]
        }
      ]
    },
    {
      "cell_type": "code",
      "source": [
        "from tensorflow import keras\n",
        "from keras import Sequential\n",
        "from keras.layers import Dense,Conv2D,MaxPooling2D,Flatten\n",
        "\n",
        "resnet_model = Sequential()\n",
        "pretrained_model = tf.keras.applications.ResNet50(include_top = False,\n",
        "                                                input_shape = (256,256,3),\n",
        "                                                pooling = 'max', classes = 2,\n",
        "                                                weights = 'imagenet')\n",
        "for layer in pretrained_model.layers:\n",
        "    layer.trainable = False\n",
        "\n",
        "resnet_model.add(pretrained_model)\n",
        "resnet_model.add(Flatten())\n",
        "resnet_model.add(Dense(512, activation = 'relu'))\n",
        "resnet_model.add(Dense(1, activation = 'sigmoid'))"
      ],
      "metadata": {
        "colab": {
          "base_uri": "https://localhost:8080/"
        },
        "id": "iJ4fm395ABpt",
        "outputId": "a97ea7d9-224c-4b6c-9650-62c7caefd02c"
      },
      "execution_count": 17,
      "outputs": [
        {
          "output_type": "stream",
          "name": "stdout",
          "text": [
            "Downloading data from https://storage.googleapis.com/tensorflow/keras-applications/resnet/resnet50_weights_tf_dim_ordering_tf_kernels_notop.h5\n",
            "94765736/94765736 [==============================] - 3s 0us/step\n"
          ]
        }
      ]
    },
    {
      "cell_type": "code",
      "source": [
        "resnet_model.summary()"
      ],
      "metadata": {
        "colab": {
          "base_uri": "https://localhost:8080/"
        },
        "id": "GEsap4k8AeG5",
        "outputId": "e0dc9eae-da36-4ffe-d3c5-7e5f773c653a"
      },
      "execution_count": 18,
      "outputs": [
        {
          "output_type": "stream",
          "name": "stdout",
          "text": [
            "Model: \"sequential_1\"\n",
            "_________________________________________________________________\n",
            " Layer (type)                Output Shape              Param #   \n",
            "=================================================================\n",
            " resnet50 (Functional)       (None, 2048)              23587712  \n",
            "                                                                 \n",
            " flatten_1 (Flatten)         (None, 2048)              0         \n",
            "                                                                 \n",
            " dense_3 (Dense)             (None, 512)               1049088   \n",
            "                                                                 \n",
            " dense_4 (Dense)             (None, 1)                 513       \n",
            "                                                                 \n",
            "=================================================================\n",
            "Total params: 24637313 (93.98 MB)\n",
            "Trainable params: 1049601 (4.00 MB)\n",
            "Non-trainable params: 23587712 (89.98 MB)\n",
            "_________________________________________________________________\n"
          ]
        }
      ]
    },
    {
      "cell_type": "code",
      "source": [
        "from keras.optimizers import Adam\n",
        "resnet_model.compile(optimizer=Adam(learning_rate=0.001),loss='binary_crossentropy',metrics=['accuracy']) #binary_crossentropy - binary classification"
      ],
      "metadata": {
        "id": "JpWr9Ea1AknX"
      },
      "execution_count": 19,
      "outputs": []
    },
    {
      "cell_type": "code",
      "source": [
        "history = resnet_model.fit(train_data, epochs=3, validation_data=validation_data)"
      ],
      "metadata": {
        "colab": {
          "base_uri": "https://localhost:8080/"
        },
        "id": "Z5RlUUi7Ao-x",
        "outputId": "99dc5af2-c388-4817-dfa2-04fbb2e9daf8"
      },
      "execution_count": 21,
      "outputs": [
        {
          "output_type": "stream",
          "name": "stdout",
          "text": [
            "Epoch 1/3\n",
            "82/82 [==============================] - 955s 12s/step - loss: 0.2945 - accuracy: 0.8712 - val_loss: 0.3290 - val_accuracy: 0.8650\n",
            "Epoch 2/3\n",
            "82/82 [==============================] - 930s 11s/step - loss: 0.2783 - accuracy: 0.8846 - val_loss: 0.2780 - val_accuracy: 0.8773\n",
            "Epoch 3/3\n",
            "82/82 [==============================] - 925s 11s/step - loss: 0.3049 - accuracy: 0.8708 - val_loss: 0.4639 - val_accuracy: 0.8221\n"
          ]
        }
      ]
    },
    {
      "cell_type": "code",
      "source": [
        "from google.colab import drive\n",
        "drive.mount('/content/drive', force_remount=True)"
      ],
      "metadata": {
        "colab": {
          "base_uri": "https://localhost:8080/"
        },
        "id": "_dvpJz0QfcOc",
        "outputId": "36038c93-4f10-4f95-ad31-9cf0a481460a"
      },
      "execution_count": 2,
      "outputs": [
        {
          "output_type": "stream",
          "name": "stdout",
          "text": [
            "Mounted at /content/drive\n"
          ]
        }
      ]
    },
    {
      "cell_type": "code",
      "source": [
        "from google.colab import drive\n",
        "drive.mount('/content/drive', force_remount=True)"
      ],
      "metadata": {
        "colab": {
          "base_uri": "https://localhost:8080/"
        },
        "id": "oXd-aviLgFX3",
        "outputId": "91e25a85-d7c6-4470-de8f-eae17a2bffba"
      },
      "execution_count": 1,
      "outputs": [
        {
          "output_type": "stream",
          "name": "stdout",
          "text": [
            "Mounted at /content/drive\n"
          ]
        }
      ]
    },
    {
      "cell_type": "code",
      "source": [
        "train_dir = '/content/drive/MyDrive/Colab Notebooks/train'\n",
        "test_dir = '/content/drive/MyDrive/Colab Notebooks/test'"
      ],
      "metadata": {
        "id": "0JXXD7xZgsY2"
      },
      "execution_count": 2,
      "outputs": []
    },
    {
      "cell_type": "code",
      "source": [
        "import os\n",
        "print(len(os.listdir('/content/drive/MyDrive/Colab Notebooks/train/Bike')))\n",
        "print(len(os.listdir('/content/drive/MyDrive/Colab Notebooks/train/Car')))\n",
        "print(len(os.listdir('/content/drive/MyDrive/Colab Notebooks/test/Bike')))\n",
        "print(len(os.listdir('/content/drive/MyDrive/Colab Notebooks/test/Car')))"
      ],
      "metadata": {
        "colab": {
          "base_uri": "https://localhost:8080/"
        },
        "id": "Y9uVTZmxg2W_",
        "outputId": "2b57d48b-8d89-4538-cf38-5287201be14b"
      },
      "execution_count": 3,
      "outputs": [
        {
          "output_type": "stream",
          "name": "stdout",
          "text": [
            "1696\n",
            "1565\n",
            "305\n",
            "435\n"
          ]
        }
      ]
    },
    {
      "cell_type": "code",
      "source": [
        "import tensorflow as tf\n",
        "from tensorflow.keras.preprocessing.image import ImageDataGenerator\n",
        "\n",
        "\n",
        "train_datagen = ImageDataGenerator(\n",
        "    rescale=1./255,\n",
        "    validation_split=0.2\n",
        ")\n",
        "\n",
        "\n",
        "train_data = train_datagen.flow_from_directory(\n",
        "    train_dir,\n",
        "    target_size=(256,256),\n",
        "    batch_size=32,\n",
        "    class_mode='binary',\n",
        "    subset='training'\n",
        ")\n",
        "\n",
        "\n",
        "validation_datagen = ImageDataGenerator(\n",
        "    rescale=1./255,\n",
        "    validation_split=0.2\n",
        ")\n",
        "\n",
        "\n",
        "validation_data = validation_datagen.flow_from_directory(\n",
        "    train_dir,\n",
        "    target_size=(256,256),\n",
        "    batch_size=32,\n",
        "    class_mode='binary',\n",
        "    subset='validation'\n",
        ")"
      ],
      "metadata": {
        "colab": {
          "base_uri": "https://localhost:8080/"
        },
        "id": "7f9AsauvhFVE",
        "outputId": "a996bd12-f637-494c-f56a-5f1e23151c81"
      },
      "execution_count": 4,
      "outputs": [
        {
          "output_type": "stream",
          "name": "stdout",
          "text": [
            "Found 2609 images belonging to 2 classes.\n",
            "Found 652 images belonging to 2 classes.\n"
          ]
        }
      ]
    },
    {
      "cell_type": "code",
      "source": [
        "from tensorflow import keras\n",
        "from keras import Sequential\n",
        "from keras.layers import Dense,Conv2D,MaxPooling2D,Flatten\n",
        "\n",
        "resnet_model = Sequential()\n",
        "pretrained_model = tf.keras.applications.ResNet50(include_top = False,\n",
        "                                                input_shape = (256,256,3),\n",
        "                                                pooling = 'max', classes = 2,\n",
        "                                                weights = 'imagenet')\n",
        "for layer in pretrained_model.layers:\n",
        "    layer.trainable = False\n",
        "resnet_model.add(pretrained_model)\n",
        "resnet_model.add(Flatten())\n",
        "resnet_model.add(Dense(512, activation = 'relu'))\n",
        "resnet_model.add(Dense(1, activation = 'sigmoid'))"
      ],
      "metadata": {
        "colab": {
          "base_uri": "https://localhost:8080/"
        },
        "id": "UZTzLYv8hT-o",
        "outputId": "8d8ee52e-cfad-47dc-c76b-aefb736a1b0e"
      },
      "execution_count": 5,
      "outputs": [
        {
          "output_type": "stream",
          "name": "stdout",
          "text": [
            "Downloading data from https://storage.googleapis.com/tensorflow/keras-applications/resnet/resnet50_weights_tf_dim_ordering_tf_kernels_notop.h5\n",
            "94765736/94765736 [==============================] - 0s 0us/step\n"
          ]
        }
      ]
    },
    {
      "cell_type": "code",
      "source": [
        "resnet_model.summary()"
      ],
      "metadata": {
        "colab": {
          "base_uri": "https://localhost:8080/"
        },
        "id": "Nn2ahzaOhd66",
        "outputId": "17c05bf8-23af-40d2-b1f9-21170aa8f323"
      },
      "execution_count": 6,
      "outputs": [
        {
          "output_type": "stream",
          "name": "stdout",
          "text": [
            "Model: \"sequential\"\n",
            "_________________________________________________________________\n",
            " Layer (type)                Output Shape              Param #   \n",
            "=================================================================\n",
            " resnet50 (Functional)       (None, 2048)              23587712  \n",
            "                                                                 \n",
            " flatten (Flatten)           (None, 2048)              0         \n",
            "                                                                 \n",
            " dense (Dense)               (None, 512)               1049088   \n",
            "                                                                 \n",
            " dense_1 (Dense)             (None, 1)                 513       \n",
            "                                                                 \n",
            "=================================================================\n",
            "Total params: 24637313 (93.98 MB)\n",
            "Trainable params: 1049601 (4.00 MB)\n",
            "Non-trainable params: 23587712 (89.98 MB)\n",
            "_________________________________________________________________\n"
          ]
        }
      ]
    },
    {
      "cell_type": "code",
      "source": [
        "from keras.optimizers import Adam\n",
        "resnet_model.compile(optimizer=Adam(learning_rate=0.001),loss='binary_crossentropy',metrics=['accuracy'])"
      ],
      "metadata": {
        "id": "MBUfgsWthfxO"
      },
      "execution_count": 8,
      "outputs": []
    },
    {
      "cell_type": "markdown",
      "source": [],
      "metadata": {
        "id": "edcQrT80kTii"
      }
    },
    {
      "cell_type": "code",
      "source": [
        "import tensorflow as tf\n",
        "from tensorflow.keras.applications import ResNet50\n",
        "from tensorflow.keras.models import Model\n",
        "from tensorflow.keras.layers import Dense, GlobalAveragePooling2D\n",
        "from tensorflow.keras.optimizers import Adam\n",
        "from tensorflow.keras.preprocessing.image import ImageDataGenerator\n",
        "import matplotlib.pyplot as plt\n",
        "import numpy as np\n",
        "from sklearn.metrics import confusion_matrix, ConfusionMatrixDisplay\n",
        "\n",
        "# Ensure you have the necessary libraries\n",
        "import seaborn as sns\n",
        "import pandas as pd"
      ],
      "metadata": {
        "id": "WMDYUHPVrnpy"
      },
      "execution_count": 13,
      "outputs": []
    },
    {
      "cell_type": "code",
      "source": [
        "(x_train, y_train), (x_val, y_val) = tf.keras.datasets.cifar10.load_data()\n",
        "x_train, x_val = x_train / 255.0, x_val / 255.0"
      ],
      "metadata": {
        "id": "_D89wie3rtjd"
      },
      "execution_count": 14,
      "outputs": []
    },
    {
      "cell_type": "code",
      "source": [
        "base_model = ResNet50(include_top=False, input_shape=(32, 32, 3), weights='imagenet')\n",
        "base_model.trainable = False\n",
        "\n",
        "\n",
        "x = GlobalAveragePooling2D()(base_model.output)\n",
        "x = Dense(512, activation='relu')(x)\n",
        "output = Dense(10, activation='softmax')(x)\n",
        "\n",
        "\n",
        "resnet_model = Model(inputs=base_model.input, outputs=output)\n",
        "\n",
        "\n",
        "resnet_model.compile(optimizer=Adam(),\n",
        "                     loss='sparse_categorical_crossentropy',\n",
        "                     metrics=['accuracy'])"
      ],
      "metadata": {
        "id": "Xi6OZh3Srx2v"
      },
      "execution_count": 15,
      "outputs": []
    },
    {
      "cell_type": "code",
      "source": [
        "history = resnet_model.fit(x_train, y_train, epochs=3, validation_data=(x_val, y_val))\n",
        "\n",
        "# Plot the training and validation accuracy\n",
        "plt.plot(history.history['accuracy'], color='red', label='train')\n",
        "plt.plot(history.history['val_accuracy'], color='blue', label='validation')\n",
        "plt.legend()\n",
        "plt.show()"
      ],
      "metadata": {
        "colab": {
          "base_uri": "https://localhost:8080/",
          "height": 534
        },
        "id": "-YAEQynysBA5",
        "outputId": "3d9eebd2-2ef4-4a1b-b45a-e3d7a7d7b9be"
      },
      "execution_count": 16,
      "outputs": [
        {
          "output_type": "stream",
          "name": "stdout",
          "text": [
            "Epoch 1/3\n",
            "1563/1563 [==============================] - 354s 223ms/step - loss: 2.0403 - accuracy: 0.2553 - val_loss: 1.9219 - val_accuracy: 0.3006\n",
            "Epoch 2/3\n",
            "1563/1563 [==============================] - 344s 220ms/step - loss: 1.8779 - accuracy: 0.3172 - val_loss: 1.8405 - val_accuracy: 0.3286\n",
            "Epoch 3/3\n",
            "1563/1563 [==============================] - 360s 230ms/step - loss: 1.8235 - accuracy: 0.3383 - val_loss: 1.8248 - val_accuracy: 0.3271\n"
          ]
        },
        {
          "output_type": "display_data",
          "data": {
            "text/plain": [
              "<Figure size 640x480 with 1 Axes>"
            ],
            "image/png": "[encoded data removed]"
          },
          "metadata": {}
        }
      ]
    },
    {
      "cell_type": "code",
      "source": [
        "plt.plot(history.history['loss'],color='red',label='train')\n",
        "plt.plot(history.history['val_loss'],color='blue',label='validation')\n",
        "plt.legend()\n",
        "plt.show()"
      ],
      "metadata": {
        "colab": {
          "base_uri": "https://localhost:8080/",
          "height": 434
        },
        "id": "IgIg-4IbwOA-",
        "outputId": "06761e37-ac19-4d44-c6a2-f94bf139b590"
      },
      "execution_count": 17,
      "outputs": [
        {
          "output_type": "display_data",
          "data": {
            "text/plain": [
              "<Figure size 640x480 with 1 Axes>"
            ],
            "image/png": "[encoded data removed]"
          },
          "metadata": {}
        }
      ]
    },
    {
      "cell_type": "code",
      "source": [
        "test_datagen = ImageDataGenerator(rescale=1./255)\n",
        "\n",
        "\n",
        "test_dir = '/content/drive/MyDrive/Colab Notebooks/test'\n",
        "\n",
        "\n",
        "test_data = test_datagen.flow_from_directory(\n",
        "    test_dir,\n",
        "    target_size=(256, 256),\n",
        "    batch_size=32,\n",
        "    class_mode='binary',\n",
        "    shuffle=False\n",
        ")\n",
        "\n",
        "\n",
        "results = resnet_model.evaluate(test_data)\n",
        "print(f\"Test Loss: {results[0]}\")\n",
        "print(f\"Test Accuracy: {results[1]}\")"
      ],
      "metadata": {
        "colab": {
          "base_uri": "https://localhost:8080/"
        },
        "id": "rjQ83ysQwT91",
        "outputId": "2fbb6d65-9f52-4804-be70-627f5e64971b"
      },
      "execution_count": 23,
      "outputs": [
        {
          "output_type": "stream",
          "name": "stdout",
          "text": [
            "Found 740 images belonging to 2 classes.\n",
            "24/24 [==============================] - 246s 10s/step - loss: 11.4607 - accuracy: 0.0000e+00\n",
            "Test Loss: 11.460677146911621\n",
            "Test Accuracy: 0.0\n"
          ]
        }
      ]
    },
    {
      "cell_type": "code",
      "source": [
        "predictions = resnet_model.predict(test_data)\n",
        "print(predictions)"
      ],
      "metadata": {
        "colab": {
          "base_uri": "https://localhost:8080/"
        },
        "id": "430vUre0yk9v",
        "outputId": "0c4dd21e-6721-4484-a295-92962fb343e4"
      },
      "execution_count": 24,
      "outputs": [
        {
          "output_type": "stream",
          "name": "stdout",
          "text": [
            "24/24 [==============================] - 223s 9s/step\n",
            "[[3.6725204e-04 1.4737445e-07 1.0238902e-02 ... 9.4133961e-01\n",
            "  1.2326984e-06 3.2384955e-06]\n",
            " [6.0196413e-04 4.2910636e-07 1.2725674e-02 ... 9.2899472e-01\n",
            "  2.8800723e-06 7.5679545e-06]\n",
            " [1.1761746e-03 2.0185209e-06 2.0201854e-02 ... 8.8487029e-01\n",
            "  7.8733328e-06 2.6549373e-05]\n",
            " ...\n",
            " [3.7300328e-04 6.5099715e-07 9.9475700e-03 ... 9.4229323e-01\n",
            "  1.6961210e-06 1.1659621e-05]\n",
            " [2.7079092e-04 3.9544221e-07 8.7165935e-03 ... 9.5033813e-01\n",
            "  9.5917824e-07 7.0410979e-06]\n",
            " [2.6820198e-04 3.0812899e-07 9.3881916e-03 ... 9.4883454e-01\n",
            "  9.5254626e-07 5.9634949e-06]]\n"
          ]
        }
      ]
    },
    {
      "cell_type": "code",
      "source": [
        "len(predictions)"
      ],
      "metadata": {
        "colab": {
          "base_uri": "https://localhost:8080/"
        },
        "id": "FL_ArTNWzuFD",
        "outputId": "c49feaba-e346-4c40-cbe8-71635073cafb"
      },
      "execution_count": 25,
      "outputs": [
        {
          "output_type": "execute_result",
          "data": {
            "text/plain": [
              "740"
            ]
          },
          "metadata": {},
          "execution_count": 25
        }
      ]
    },
    {
      "cell_type": "code",
      "source": [
        "from sklearn.metrics import confusion_matrix, classification_report\n",
        "import numpy as np\n",
        "\n",
        "\n",
        "test_data.reset()\n",
        "predictions = resnet_model.predict(test_data)\n",
        "\n",
        "\n",
        "print(f\"Predictions shape: {predictions.shape}\")\n",
        "print(f\"Number of samples in test data: {test_data.samples}\")\n",
        "\n",
        "\n",
        "predicted_labels = (predictions > 0.5).astype(int).flatten()\n",
        "\n",
        "\n",
        "true_labels = test_data.classes\n",
        "\n",
        "\n",
        "print(f\"True labels length: {len(true_labels)}\")\n",
        "print(f\"Predicted labels length: {len(predicted_labels)}\")\n",
        "\n",
        "\n",
        "if len(predicted_labels) != len(true_labels):\n",
        "    predicted_labels = predicted_labels[:len(true_labels)]\n",
        "\n",
        "\n",
        "cm = confusion_matrix(true_labels, predicted_labels)\n",
        "\n",
        "print(\"Confusion Matrix:\")\n",
        "print(cm)\n",
        "\n",
        "print(\"Classification Report:\")\n",
        "print(classification_report(true_labels, predicted_labels))\n"
      ],
      "metadata": {
        "colab": {
          "base_uri": "https://localhost:8080/"
        },
        "id": "wdtoIABU3jLZ",
        "outputId": "b4d3d8de-7a91-4546-dbc9-856f85e5fd14"
      },
      "execution_count": 35,
      "outputs": [
        {
          "output_type": "stream",
          "name": "stdout",
          "text": [
            "24/24 [==============================] - 220s 9s/step\n",
            "Predictions shape: (740, 10)\n",
            "Number of samples in test data: 740\n",
            "True labels length: 740\n",
            "Predicted labels length: 7400\n",
            "Confusion Matrix:\n",
            "[[275  30]\n",
            " [391  44]]\n",
            "Classification Report:\n",
            "              precision    recall  f1-score   support\n",
            "\n",
            "           0       0.41      0.90      0.57       305\n",
            "           1       0.59      0.10      0.17       435\n",
            "\n",
            "    accuracy                           0.43       740\n",
            "   macro avg       0.50      0.50      0.37       740\n",
            "weighted avg       0.52      0.43      0.34       740\n",
            "\n"
          ]
        }
      ]
    }
  ]
}